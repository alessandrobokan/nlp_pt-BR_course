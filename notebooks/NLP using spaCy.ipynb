{
 "cells": [
  {
   "cell_type": "code",
   "execution_count": 1,
   "metadata": {},
   "outputs": [],
   "source": [
    "import spacy\n",
    "\n",
    "from prettytable import PrettyTable\n",
    "\n",
    "from spacy.lang.pt import Portuguese\n",
    "from spacy import displacy"
   ]
  },
  {
   "cell_type": "markdown",
   "metadata": {},
   "source": [
    "## Tokenization"
   ]
  },
  {
   "cell_type": "code",
   "execution_count": 2,
   "metadata": {
    "scrolled": true
   },
   "outputs": [
    {
     "name": "stdout",
     "output_type": "stream",
     "text": [
      "O\n",
      "rato\n",
      "roeu\n",
      "a\n",
      "roupa\n",
      "do\n",
      "rei\n",
      "de\n",
      "Roma\n",
      ".\n"
     ]
    }
   ],
   "source": [
    "nlp = Portuguese()\n",
    "\n",
    "doc = nlp(\"O rato roeu a roupa do rei de Roma.\")\n",
    "\n",
    "for token in doc:\n",
    "    print(token.text)"
   ]
  },
  {
   "cell_type": "markdown",
   "metadata": {},
   "source": [
    "### Sentence tokenization\n",
    "\n",
    "Consist in break the text into sentences. When performing sentence tokenization, the tokenizer looks for specific characters that fall between sentences, like periods, exclaimation points, and newline characters. \n"
   ]
  },
  {
   "cell_type": "markdown",
   "metadata": {},
   "source": [
    "#### Test without pt-BR pipeline"
   ]
  },
  {
   "cell_type": "code",
   "execution_count": 3,
   "metadata": {
    "scrolled": true
   },
   "outputs": [
    {
     "name": "stdout",
     "output_type": "stream",
     "text": [
      "* Messi também concorre no Prêmio Puskàs, de gol mais bonito da temporada, pelo toque de cobertura contra o Bétis, em março.\n",
      "* Seus adversários são o colombiano Quintero, pela cobrança de falta pelo River Plate diante do Racing, em fevereiro, e o húngaro Dániel Zsóri, do Debrecen, autor de uma bicicleta contra o Ferencváros.\n",
      "* O brasileiro Matheus Cunha, do RB Leipzig, era um dos 10 indicados, mas ficou fora do trio finalista.\n"
     ]
    }
   ],
   "source": [
    "nlp = Portuguese()\n",
    "\n",
    "# Create the pipeline 'sentencizer' component\n",
    "sentencizer = nlp.create_pipe('sentencizer')\n",
    "\n",
    "# Add the component to the pipeline\n",
    "nlp.add_pipe(sentencizer)\n",
    "\n",
    "text = 'Messi também concorre no Prêmio Puskàs, de gol mais bonito da temporada, pelo toque de cobertura contra o Bétis, em março. Seus adversários são o colombiano Quintero, pela cobrança de falta pelo River Plate diante do Racing, em fevereiro, e o húngaro Dániel Zsóri, do Debrecen, autor de uma bicicleta contra o Ferencváros. O brasileiro Matheus Cunha, do RB Leipzig, era um dos 10 indicados, mas ficou fora do trio finalista.'\n",
    "\n",
    "doc = nlp(text)\n",
    "for sentence in doc.sents:\n",
    "    if sentence.text.strip():\n",
    "        print(\"* %s\" % sentence.text.strip())"
   ]
  },
  {
   "cell_type": "markdown",
   "metadata": {},
   "source": [
    "#### Test with pt-BR pipeline (tokenizer, sentence tokenizer, tagger, parser, NER)"
   ]
  },
  {
   "cell_type": "code",
   "execution_count": 4,
   "metadata": {
    "scrolled": true
   },
   "outputs": [
    {
     "name": "stdout",
     "output_type": "stream",
     "text": [
      "* Messi também concorre no Prêmio Puskàs, de gol mais bonito da temporada, pelo toque de cobertura contra o Bétis, em março.\n",
      "* Seus adversários são o colombiano Quintero, pela cobrança de falta pelo River\n",
      "* Plate diante do Racing, em fevereiro, e o húngaro Dániel Zsóri, do Debrecen, autor de uma bicicleta contra o Ferencváros.\n",
      "* O brasileiro Matheus Cunha, do RB Leipzig, era um dos 10 indicados, mas ficou fora do trio finalista.\n"
     ]
    }
   ],
   "source": [
    "nlp = spacy.load('pt_core_news_sm')\n",
    "\n",
    "text = 'Messi também concorre no Prêmio Puskàs, de gol mais bonito da temporada, pelo toque de cobertura contra o Bétis, em março. Seus adversários são o colombiano Quintero, pela cobrança de falta pelo River Plate diante do Racing, em fevereiro, e o húngaro Dániel Zsóri, do Debrecen, autor de uma bicicleta contra o Ferencváros. O brasileiro Matheus Cunha, do RB Leipzig, era um dos 10 indicados, mas ficou fora do trio finalista.'\n",
    "\n",
    "doc = nlp(text)\n",
    "for sentence in doc.sents:\n",
    "    if sentence.text.strip():\n",
    "        print(\"* %s\" % sentence.text.strip())"
   ]
  },
  {
   "cell_type": "markdown",
   "metadata": {},
   "source": [
    "## Removing stopwords\n",
    "\n",
    "Most text data that we work with is going to contain a lot of words that aren’t actually useful to us. These words, called stopwords, are useful in human speech, but they don’t have much to contribute to data analysis. Removing stopwords helps us eliminate noise and distraction from our text data, and also speeds up the time analysis takes (since there are fewer words to process)."
   ]
  },
  {
   "cell_type": "code",
   "execution_count": 5,
   "metadata": {},
   "outputs": [
    {
     "name": "stdout",
     "output_type": "stream",
     "text": [
      "Number of pt-BR stop-words: 413\n",
      "First 20 stop words: ['tu', 'após', 'coisa', 'inicio', 'tem', 'à', 'sistema', 'sétimo', 'tentei', 'diz', 'quanto', 'cá', 'numa', 'tentar', 'nesse', 'quinze', 'fazer', 'minha', 'pela', 'porém']\n"
     ]
    }
   ],
   "source": [
    "# List some stopwords\n",
    "stopwords = spacy.lang.pt.stop_words.STOP_WORDS\n",
    "\n",
    "print('Number of pt-BR stop-words: %d' % len(stopwords))\n",
    "\n",
    "print('First 20 stop words: %s' % list(stopwords)[:20])"
   ]
  },
  {
   "cell_type": "markdown",
   "metadata": {},
   "source": [
    "Removing stopwords from our data"
   ]
  },
  {
   "cell_type": "code",
   "execution_count": 6,
   "metadata": {
    "scrolled": true
   },
   "outputs": [
    {
     "name": "stdout",
     "output_type": "stream",
     "text": [
      "Sentence without stopwords and punctuation marks: [Messi, concorre, Prêmio, Puskàs, gol, bonito, temporada, toque, cobertura, o, Bétis, março]\n"
     ]
    }
   ],
   "source": [
    "nlp = Portuguese()\n",
    "\n",
    "text = 'Messi também concorre no Prêmio Puskàs, de gol mais bonito da temporada, pelo toque de cobertura contra o Bétis, em março.'\n",
    "\n",
    "doc = nlp(text)\n",
    "\n",
    "# filtering stop words\n",
    "sent_no_sw = [token for token in doc if not token.is_stop and not token.is_punct]\n",
    "\n",
    "print(\"Sentence without stopwords and punctuation marks:\", sent_no_sw)"
   ]
  },
  {
   "cell_type": "markdown",
   "metadata": {},
   "source": [
    "If I want to add/remove stopwords..."
   ]
  },
  {
   "cell_type": "code",
   "execution_count": 7,
   "metadata": {},
   "outputs": [
    {
     "name": "stdout",
     "output_type": "stream",
     "text": [
      "Sentence without stopwords and punctuation marks: [Messi, não, concorre, Prêmio, Puskàs, bonito, temporada]\n"
     ]
    }
   ],
   "source": [
    "nlp = Portuguese()\n",
    "\n",
    "nlp.vocab[\"não\"].is_stop = False\n",
    "nlp.vocab[\"gol\"].is_stop = True\n",
    "\n",
    "text = 'Messi também não concorre no Prêmio Puskàs, de gol mais bonito da temporada'\n",
    "\n",
    "doc = nlp(text)\n",
    "\n",
    "# filtering stop words and punct marks\n",
    "sent_no_sw = [token for token in doc if not token.is_stop and not token.is_punct]\n",
    "\n",
    "print(\"Sentence without stopwords and punctuation marks:\", sent_no_sw)"
   ]
  },
  {
   "cell_type": "markdown",
   "metadata": {},
   "source": [
    "## Lexicon Normalization\n",
    "\n",
    "Lemmatization is a way of dealing with the fact that while words like connect, connection, connecting, connected, etc. aren’t exactly the same, they all have the same essential meaning: connect."
   ]
  },
  {
   "cell_type": "code",
   "execution_count": 8,
   "metadata": {},
   "outputs": [
    {
     "name": "stdout",
     "output_type": "stream",
     "text": [
      "+-----------+-----------+\n",
      "|    Text   |   Lemma   |\n",
      "+-----------+-----------+\n",
      "|     Na    |     Na    |\n",
      "| categoria | categoria |\n",
      "|     de    |     de    |\n",
      "|  técnicos |  técnico  |\n",
      "|     de    |     de    |\n",
      "|  equipes  |  equipar  |\n",
      "| femininas |  feminino |\n",
      "|     ,     |     ,     |\n",
      "|    duas   |    dois   |\n",
      "|  mulheres |   mulher  |\n",
      "|  disputam |  disputar |\n",
      "|    com    |    com    |\n",
      "|     um    |     um    |\n",
      "|   homem   |   homem   |\n",
      "|     .     |     .     |\n",
      "+-----------+-----------+\n"
     ]
    }
   ],
   "source": [
    "nlp = Portuguese()\n",
    "\n",
    "doc = nlp(\"Na categoria de técnicos de equipes femininas, duas mulheres disputam com um homem.\")\n",
    "\n",
    "x = PrettyTable()\n",
    "x.field_names = [\"Text\", \"Lemma\"]\n",
    "\n",
    "for token in doc:\n",
    "    x.add_row([token.text, token.lemma_])\n",
    "    \n",
    "print(x)  "
   ]
  },
  {
   "cell_type": "markdown",
   "metadata": {},
   "source": [
    "Stemming involves simply lopping off easily-identified prefixes and suffixes to produce what’s often the simplest version of a word. Connection, for example, would have the -ion suffix removed and be correctly reduced to connect. However, spaCy **doesn't contain any function for stemming** as it relies on lemmatization only. Therefore, in this section, we will use NLTK for stemming. You need to use NLTK stemmer\n",
    "\n",
    "**OBS:** lemmatization is more precise than stemming!!!"
   ]
  },
  {
   "cell_type": "markdown",
   "metadata": {},
   "source": [
    "## Part of Speech (POS) Tagging\n",
    "\n",
    "A word’s part of speech defines its function within a sentence. A noun, for example, identifies an object. \n",
    "An adjective describes an object. A verb describes action. Identifying and tagging each word’s part of \n",
    "speech in the context of a sentence is called Part-of-Speech Tagging, or POS Tagging.\n",
    "\n",
    "We’ll need to import its `pt_core_news_sm`model, because that contains the dictionary and grammatical \n",
    "information required to do this analysis. Then all we need to do is load this model with .load() and \n",
    "loop through our new docs variable, identifying the part of speech for each word using .pos_."
   ]
  },
  {
   "cell_type": "code",
   "execution_count": 9,
   "metadata": {},
   "outputs": [
    {
     "name": "stdout",
     "output_type": "stream",
     "text": [
      "+-------+-------+--------------------------+\n",
      "|  Text |  POS  | Tag                      |\n",
      "+-------+-------+--------------------------+\n",
      "|   O   |  DET  | <artd>|ART|M|S|@>N       |\n",
      "|  rato |  NOUN | <np-def>|N|M|S|@SUBJ>    |\n",
      "|  roeu |  VERB | <mv>|V|PR|3S|IND|@FS-STA |\n",
      "|   a   |  DET  | <artd>|ART|F|S|@>N       |\n",
      "| roupa |  NOUN | <np-def>|N|F|S|@<ACC     |\n",
      "|   do  |  DET  | <artd>|ART|M|P|@>N       |\n",
      "|  rei  |  NOUN | <np-def>|N|M|S|@<ACC     |\n",
      "|   de  |  ADP  | PRP|@N<                  |\n",
      "|  Roma | PROPN | PROP|M|S|@P<             |\n",
      "|   .   | PUNCT | PU|@PU                   |\n",
      "+-------+-------+--------------------------+\n"
     ]
    }
   ],
   "source": [
    "nlp = spacy.load('pt_core_news_sm')\n",
    "\n",
    "text = \"O rato roeu a roupa do rei de Roma.\"\n",
    "\n",
    "doc = nlp(text)\n",
    "\n",
    "x = PrettyTable()\n",
    "x.field_names = [\"Text\", \"POS\", \"Tag\"]\n",
    "x.align[\"Tag\"] = \"l\"\n",
    "\n",
    "for token in doc:\n",
    "    x.add_row([token.text, token.pos_, token.tag_])\n",
    "    \n",
    "print(x)    "
   ]
  },
  {
   "cell_type": "code",
   "execution_count": 10,
   "metadata": {},
   "outputs": [
    {
     "name": "stdout",
     "output_type": "stream",
     "text": [
      "+-------+-------+--------------------------+\n",
      "|  Text |  POS  | Tag                      |\n",
      "+-------+-------+--------------------------+\n",
      "|   Eu  |  PRON | PERS|M|1S|NOM|@SUBJ>     |\n",
      "| gosto |  VERB | <mv>|V|PR|1S|IND|@FS-STA |\n",
      "|   do  |  DET  | <artd>|ART|M|S|@>N       |\n",
      "| gosto |  NOUN | <np-idf>|N|M|S|@<ACC     |\n",
      "|   da  |  ADP  | PRP|@N<                  |\n",
      "|  uva  |  NOUN | <np-idf>|N|F|S|@P<       |\n",
      "|   .   | PUNCT | PU|@PU                   |\n",
      "+-------+-------+--------------------------+\n"
     ]
    }
   ],
   "source": [
    "nlp = spacy.load('pt_core_news_sm')\n",
    "\n",
    "doc = nlp(\"Eu gosto do gosto da uva.\")\n",
    "\n",
    "x = PrettyTable()\n",
    "x.field_names = [\"Text\", \"POS\", \"Tag\"]\n",
    "x.align[\"Tag\"] = \"l\"\n",
    "\n",
    "for token in doc:\n",
    "    x.add_row([token.text, token.pos_, token.tag_])\n",
    "    \n",
    "print(x)"
   ]
  },
  {
   "cell_type": "markdown",
   "metadata": {},
   "source": [
    "## Named Entity Recognition (NER)"
   ]
  },
  {
   "cell_type": "code",
   "execution_count": 11,
   "metadata": {},
   "outputs": [],
   "source": [
    "nlp = spacy.load('pt_core_news_sm')"
   ]
  },
  {
   "cell_type": "code",
   "execution_count": 12,
   "metadata": {},
   "outputs": [],
   "source": [
    "text = \"O Fantástico teve acesso exclusivo à investigação da Aeronáutica que apontou que o sargento Manoel Silva Rodrigues, preso na Espanha em junho com 39 kg de cocaína, entrou no avião ainda desligado e não passou a bagagem pelos procedimentos de segurança previstos. O militar estava na comitiva presidencial que levava o presidente Jair Bolsonaro – que estava em outra aeronave – ao encontro do G20 no Japão.\"\n",
    "\n",
    "doc = nlp(text)"
   ]
  },
  {
   "cell_type": "code",
   "execution_count": 13,
   "metadata": {},
   "outputs": [
    {
     "data": {
      "text/html": [
       "<div class=\"entities\" style=\"line-height: 2.5; direction: ltr\">O \n",
       "<mark class=\"entity\" style=\"background: #ddd; padding: 0.45em 0.6em; margin: 0 0.25em; line-height: 1; border-radius: 0.35em; box-decoration-break: clone; -webkit-box-decoration-break: clone\">\n",
       "    Fantástico\n",
       "    <span style=\"font-size: 0.8em; font-weight: bold; line-height: 1; border-radius: 0.35em; text-transform: uppercase; vertical-align: middle; margin-left: 0.5rem\">MISC</span>\n",
       "</mark>\n",
       " teve acesso exclusivo à investigação da \n",
       "<mark class=\"entity\" style=\"background: #7aecec; padding: 0.45em 0.6em; margin: 0 0.25em; line-height: 1; border-radius: 0.35em; box-decoration-break: clone; -webkit-box-decoration-break: clone\">\n",
       "    Aeronáutica\n",
       "    <span style=\"font-size: 0.8em; font-weight: bold; line-height: 1; border-radius: 0.35em; text-transform: uppercase; vertical-align: middle; margin-left: 0.5rem\">ORG</span>\n",
       "</mark>\n",
       " que apontou que o sargento \n",
       "<mark class=\"entity\" style=\"background: #ddd; padding: 0.45em 0.6em; margin: 0 0.25em; line-height: 1; border-radius: 0.35em; box-decoration-break: clone; -webkit-box-decoration-break: clone\">\n",
       "    Manoel Silva Rodrigues\n",
       "    <span style=\"font-size: 0.8em; font-weight: bold; line-height: 1; border-radius: 0.35em; text-transform: uppercase; vertical-align: middle; margin-left: 0.5rem\">PER</span>\n",
       "</mark>\n",
       ", preso na \n",
       "<mark class=\"entity\" style=\"background: #ff9561; padding: 0.45em 0.6em; margin: 0 0.25em; line-height: 1; border-radius: 0.35em; box-decoration-break: clone; -webkit-box-decoration-break: clone\">\n",
       "    Espanha\n",
       "    <span style=\"font-size: 0.8em; font-weight: bold; line-height: 1; border-radius: 0.35em; text-transform: uppercase; vertical-align: middle; margin-left: 0.5rem\">LOC</span>\n",
       "</mark>\n",
       " em junho com 39 kg de cocaína, entrou no avião ainda desligado e não passou a bagagem pelos procedimentos de segurança previstos. O militar estava na comitiva presidencial que levava o presidente \n",
       "<mark class=\"entity\" style=\"background: #ddd; padding: 0.45em 0.6em; margin: 0 0.25em; line-height: 1; border-radius: 0.35em; box-decoration-break: clone; -webkit-box-decoration-break: clone\">\n",
       "    Jair Bolsonaro\n",
       "    <span style=\"font-size: 0.8em; font-weight: bold; line-height: 1; border-radius: 0.35em; text-transform: uppercase; vertical-align: middle; margin-left: 0.5rem\">PER</span>\n",
       "</mark>\n",
       " – que estava em outra aeronave – ao encontro do \n",
       "<mark class=\"entity\" style=\"background: #7aecec; padding: 0.45em 0.6em; margin: 0 0.25em; line-height: 1; border-radius: 0.35em; box-decoration-break: clone; -webkit-box-decoration-break: clone\">\n",
       "    G20\n",
       "    <span style=\"font-size: 0.8em; font-weight: bold; line-height: 1; border-radius: 0.35em; text-transform: uppercase; vertical-align: middle; margin-left: 0.5rem\">ORG</span>\n",
       "</mark>\n",
       " no \n",
       "<mark class=\"entity\" style=\"background: #ff9561; padding: 0.45em 0.6em; margin: 0 0.25em; line-height: 1; border-radius: 0.35em; box-decoration-break: clone; -webkit-box-decoration-break: clone\">\n",
       "    Japão\n",
       "    <span style=\"font-size: 0.8em; font-weight: bold; line-height: 1; border-radius: 0.35em; text-transform: uppercase; vertical-align: middle; margin-left: 0.5rem\">LOC</span>\n",
       "</mark>\n",
       ".</div>"
      ],
      "text/plain": [
       "<IPython.core.display.HTML object>"
      ]
     },
     "metadata": {},
     "output_type": "display_data"
    }
   ],
   "source": [
    "displacy.render(doc, style = \"ent\",jupyter = True)"
   ]
  },
  {
   "cell_type": "markdown",
   "metadata": {},
   "source": [
    "## Dependency Parsing\n",
    "\n",
    "Depenency parsing is a language processing technique that allows us to better determine the meaning \n",
    "of a sentence by analyzing how it’s constructed to determine how the individual words relate to each other.\n",
    "\n",
    "Consider, for example, the sentence “Bill throws the ball.” We have two nouns (Bill and ball) \n",
    "and one verb (throws). But we can’t just look at these words individually, or we may end up thinking that \n",
    "the ball is throwing Bill! To understand the sentence correctly, we need to look at the word order \n",
    "and sentence structure, not just the words and their parts of speech."
   ]
  },
  {
   "cell_type": "code",
   "execution_count": 14,
   "metadata": {},
   "outputs": [],
   "source": [
    "nlp = spacy.load('pt_core_news_sm')\n",
    "\n",
    "text = \"O rato roeu a roupa do rei de Roma.\"\n",
    "\n",
    "doc = nlp(text)"
   ]
  },
  {
   "cell_type": "code",
   "execution_count": 15,
   "metadata": {},
   "outputs": [
    {
     "data": {
      "text/html": [
       "<svg xmlns=\"http://www.w3.org/2000/svg\" xmlns:xlink=\"http://www.w3.org/1999/xlink\" xml:lang=\"pt\" id=\"71da79b2fc4c4b629015948218be6c0d-0\" class=\"displacy\" width=\"1625\" height=\"312.0\" direction=\"ltr\" style=\"max-width: none; height: 312.0px; color: #000000; background: #ffffff; font-family: Arial; direction: ltr\">\n",
       "<text class=\"displacy-token\" fill=\"currentColor\" text-anchor=\"middle\" y=\"222.0\">\n",
       "    <tspan class=\"displacy-word\" fill=\"currentColor\" x=\"50\">O</tspan>\n",
       "    <tspan class=\"displacy-tag\" dy=\"2em\" fill=\"currentColor\" x=\"50\">DET</tspan>\n",
       "</text>\n",
       "\n",
       "<text class=\"displacy-token\" fill=\"currentColor\" text-anchor=\"middle\" y=\"222.0\">\n",
       "    <tspan class=\"displacy-word\" fill=\"currentColor\" x=\"225\">rato</tspan>\n",
       "    <tspan class=\"displacy-tag\" dy=\"2em\" fill=\"currentColor\" x=\"225\">NOUN</tspan>\n",
       "</text>\n",
       "\n",
       "<text class=\"displacy-token\" fill=\"currentColor\" text-anchor=\"middle\" y=\"222.0\">\n",
       "    <tspan class=\"displacy-word\" fill=\"currentColor\" x=\"400\">roeu</tspan>\n",
       "    <tspan class=\"displacy-tag\" dy=\"2em\" fill=\"currentColor\" x=\"400\">VERB</tspan>\n",
       "</text>\n",
       "\n",
       "<text class=\"displacy-token\" fill=\"currentColor\" text-anchor=\"middle\" y=\"222.0\">\n",
       "    <tspan class=\"displacy-word\" fill=\"currentColor\" x=\"575\">a</tspan>\n",
       "    <tspan class=\"displacy-tag\" dy=\"2em\" fill=\"currentColor\" x=\"575\">DET</tspan>\n",
       "</text>\n",
       "\n",
       "<text class=\"displacy-token\" fill=\"currentColor\" text-anchor=\"middle\" y=\"222.0\">\n",
       "    <tspan class=\"displacy-word\" fill=\"currentColor\" x=\"750\">roupa</tspan>\n",
       "    <tspan class=\"displacy-tag\" dy=\"2em\" fill=\"currentColor\" x=\"750\">NOUN</tspan>\n",
       "</text>\n",
       "\n",
       "<text class=\"displacy-token\" fill=\"currentColor\" text-anchor=\"middle\" y=\"222.0\">\n",
       "    <tspan class=\"displacy-word\" fill=\"currentColor\" x=\"925\">do</tspan>\n",
       "    <tspan class=\"displacy-tag\" dy=\"2em\" fill=\"currentColor\" x=\"925\">DET</tspan>\n",
       "</text>\n",
       "\n",
       "<text class=\"displacy-token\" fill=\"currentColor\" text-anchor=\"middle\" y=\"222.0\">\n",
       "    <tspan class=\"displacy-word\" fill=\"currentColor\" x=\"1100\">rei</tspan>\n",
       "    <tspan class=\"displacy-tag\" dy=\"2em\" fill=\"currentColor\" x=\"1100\">NOUN</tspan>\n",
       "</text>\n",
       "\n",
       "<text class=\"displacy-token\" fill=\"currentColor\" text-anchor=\"middle\" y=\"222.0\">\n",
       "    <tspan class=\"displacy-word\" fill=\"currentColor\" x=\"1275\">de</tspan>\n",
       "    <tspan class=\"displacy-tag\" dy=\"2em\" fill=\"currentColor\" x=\"1275\">ADP</tspan>\n",
       "</text>\n",
       "\n",
       "<text class=\"displacy-token\" fill=\"currentColor\" text-anchor=\"middle\" y=\"222.0\">\n",
       "    <tspan class=\"displacy-word\" fill=\"currentColor\" x=\"1450\">Roma.</tspan>\n",
       "    <tspan class=\"displacy-tag\" dy=\"2em\" fill=\"currentColor\" x=\"1450\">PROPN</tspan>\n",
       "</text>\n",
       "\n",
       "<g class=\"displacy-arrow\">\n",
       "    <path class=\"displacy-arc\" id=\"arrow-71da79b2fc4c4b629015948218be6c0d-0-0\" stroke-width=\"2px\" d=\"M70,177.0 C70,89.5 220.0,89.5 220.0,177.0\" fill=\"none\" stroke=\"currentColor\"/>\n",
       "    <text dy=\"1.25em\" style=\"font-size: 0.8em; letter-spacing: 1px\">\n",
       "        <textPath xlink:href=\"#arrow-71da79b2fc4c4b629015948218be6c0d-0-0\" class=\"displacy-label\" startOffset=\"50%\" side=\"left\" fill=\"currentColor\" text-anchor=\"middle\">det</textPath>\n",
       "    </text>\n",
       "    <path class=\"displacy-arrowhead\" d=\"M70,179.0 L62,167.0 78,167.0\" fill=\"currentColor\"/>\n",
       "</g>\n",
       "\n",
       "<g class=\"displacy-arrow\">\n",
       "    <path class=\"displacy-arc\" id=\"arrow-71da79b2fc4c4b629015948218be6c0d-0-1\" stroke-width=\"2px\" d=\"M245,177.0 C245,89.5 395.0,89.5 395.0,177.0\" fill=\"none\" stroke=\"currentColor\"/>\n",
       "    <text dy=\"1.25em\" style=\"font-size: 0.8em; letter-spacing: 1px\">\n",
       "        <textPath xlink:href=\"#arrow-71da79b2fc4c4b629015948218be6c0d-0-1\" class=\"displacy-label\" startOffset=\"50%\" side=\"left\" fill=\"currentColor\" text-anchor=\"middle\">nsubj</textPath>\n",
       "    </text>\n",
       "    <path class=\"displacy-arrowhead\" d=\"M245,179.0 L237,167.0 253,167.0\" fill=\"currentColor\"/>\n",
       "</g>\n",
       "\n",
       "<g class=\"displacy-arrow\">\n",
       "    <path class=\"displacy-arc\" id=\"arrow-71da79b2fc4c4b629015948218be6c0d-0-2\" stroke-width=\"2px\" d=\"M595,177.0 C595,89.5 745.0,89.5 745.0,177.0\" fill=\"none\" stroke=\"currentColor\"/>\n",
       "    <text dy=\"1.25em\" style=\"font-size: 0.8em; letter-spacing: 1px\">\n",
       "        <textPath xlink:href=\"#arrow-71da79b2fc4c4b629015948218be6c0d-0-2\" class=\"displacy-label\" startOffset=\"50%\" side=\"left\" fill=\"currentColor\" text-anchor=\"middle\">det</textPath>\n",
       "    </text>\n",
       "    <path class=\"displacy-arrowhead\" d=\"M595,179.0 L587,167.0 603,167.0\" fill=\"currentColor\"/>\n",
       "</g>\n",
       "\n",
       "<g class=\"displacy-arrow\">\n",
       "    <path class=\"displacy-arc\" id=\"arrow-71da79b2fc4c4b629015948218be6c0d-0-3\" stroke-width=\"2px\" d=\"M420,177.0 C420,2.0 750.0,2.0 750.0,177.0\" fill=\"none\" stroke=\"currentColor\"/>\n",
       "    <text dy=\"1.25em\" style=\"font-size: 0.8em; letter-spacing: 1px\">\n",
       "        <textPath xlink:href=\"#arrow-71da79b2fc4c4b629015948218be6c0d-0-3\" class=\"displacy-label\" startOffset=\"50%\" side=\"left\" fill=\"currentColor\" text-anchor=\"middle\">obj</textPath>\n",
       "    </text>\n",
       "    <path class=\"displacy-arrowhead\" d=\"M750.0,179.0 L758.0,167.0 742.0,167.0\" fill=\"currentColor\"/>\n",
       "</g>\n",
       "\n",
       "<g class=\"displacy-arrow\">\n",
       "    <path class=\"displacy-arc\" id=\"arrow-71da79b2fc4c4b629015948218be6c0d-0-4\" stroke-width=\"2px\" d=\"M945,177.0 C945,89.5 1095.0,89.5 1095.0,177.0\" fill=\"none\" stroke=\"currentColor\"/>\n",
       "    <text dy=\"1.25em\" style=\"font-size: 0.8em; letter-spacing: 1px\">\n",
       "        <textPath xlink:href=\"#arrow-71da79b2fc4c4b629015948218be6c0d-0-4\" class=\"displacy-label\" startOffset=\"50%\" side=\"left\" fill=\"currentColor\" text-anchor=\"middle\">case</textPath>\n",
       "    </text>\n",
       "    <path class=\"displacy-arrowhead\" d=\"M945,179.0 L937,167.0 953,167.0\" fill=\"currentColor\"/>\n",
       "</g>\n",
       "\n",
       "<g class=\"displacy-arrow\">\n",
       "    <path class=\"displacy-arc\" id=\"arrow-71da79b2fc4c4b629015948218be6c0d-0-5\" stroke-width=\"2px\" d=\"M770,177.0 C770,2.0 1100.0,2.0 1100.0,177.0\" fill=\"none\" stroke=\"currentColor\"/>\n",
       "    <text dy=\"1.25em\" style=\"font-size: 0.8em; letter-spacing: 1px\">\n",
       "        <textPath xlink:href=\"#arrow-71da79b2fc4c4b629015948218be6c0d-0-5\" class=\"displacy-label\" startOffset=\"50%\" side=\"left\" fill=\"currentColor\" text-anchor=\"middle\">nmod</textPath>\n",
       "    </text>\n",
       "    <path class=\"displacy-arrowhead\" d=\"M1100.0,179.0 L1108.0,167.0 1092.0,167.0\" fill=\"currentColor\"/>\n",
       "</g>\n",
       "\n",
       "<g class=\"displacy-arrow\">\n",
       "    <path class=\"displacy-arc\" id=\"arrow-71da79b2fc4c4b629015948218be6c0d-0-6\" stroke-width=\"2px\" d=\"M1295,177.0 C1295,89.5 1445.0,89.5 1445.0,177.0\" fill=\"none\" stroke=\"currentColor\"/>\n",
       "    <text dy=\"1.25em\" style=\"font-size: 0.8em; letter-spacing: 1px\">\n",
       "        <textPath xlink:href=\"#arrow-71da79b2fc4c4b629015948218be6c0d-0-6\" class=\"displacy-label\" startOffset=\"50%\" side=\"left\" fill=\"currentColor\" text-anchor=\"middle\">case</textPath>\n",
       "    </text>\n",
       "    <path class=\"displacy-arrowhead\" d=\"M1295,179.0 L1287,167.0 1303,167.0\" fill=\"currentColor\"/>\n",
       "</g>\n",
       "\n",
       "<g class=\"displacy-arrow\">\n",
       "    <path class=\"displacy-arc\" id=\"arrow-71da79b2fc4c4b629015948218be6c0d-0-7\" stroke-width=\"2px\" d=\"M1120,177.0 C1120,2.0 1450.0,2.0 1450.0,177.0\" fill=\"none\" stroke=\"currentColor\"/>\n",
       "    <text dy=\"1.25em\" style=\"font-size: 0.8em; letter-spacing: 1px\">\n",
       "        <textPath xlink:href=\"#arrow-71da79b2fc4c4b629015948218be6c0d-0-7\" class=\"displacy-label\" startOffset=\"50%\" side=\"left\" fill=\"currentColor\" text-anchor=\"middle\">nmod</textPath>\n",
       "    </text>\n",
       "    <path class=\"displacy-arrowhead\" d=\"M1450.0,179.0 L1458.0,167.0 1442.0,167.0\" fill=\"currentColor\"/>\n",
       "</g>\n",
       "</svg>"
      ],
      "text/plain": [
       "<IPython.core.display.HTML object>"
      ]
     },
     "metadata": {},
     "output_type": "display_data"
    }
   ],
   "source": [
    "displacy.render(doc, style=\"dep\", jupyter= True)"
   ]
  },
  {
   "cell_type": "markdown",
   "metadata": {},
   "source": [
    "# Text Classification"
   ]
  },
  {
   "cell_type": "code",
   "execution_count": 18,
   "metadata": {},
   "outputs": [],
   "source": [
    "import pandas as pd\n",
    "\n",
    "from sklearn.feature_extraction.text import CountVectorizer, TfidfVectorizer\n",
    "from sklearn.base import TransformerMixin\n",
    "from sklearn.pipeline import Pipeline\n",
    "from sklearn.model_selection import StratifiedKFold\n",
    "from sklearn.feature_extraction.text import HashingVectorizer\n",
    "from sklearn.metrics import classification_report\n",
    "from sklearn.ensemble import RandomForestClassifier"
   ]
  },
  {
   "cell_type": "code",
   "execution_count": 19,
   "metadata": {},
   "outputs": [],
   "source": [
    "from nltk.corpus import machado"
   ]
  },
  {
   "cell_type": "code",
   "execution_count": 20,
   "metadata": {},
   "outputs": [
    {
     "data": {
      "text/plain": [
       "['contos',\n",
       " 'critica',\n",
       " 'cronica',\n",
       " 'miscelanea',\n",
       " 'poesia',\n",
       " 'romance',\n",
       " 'teatro',\n",
       " 'traducao']"
      ]
     },
     "execution_count": 20,
     "metadata": {},
     "output_type": "execute_result"
    }
   ],
   "source": [
    "machado.categories()"
   ]
  },
  {
   "cell_type": "code",
   "execution_count": 21,
   "metadata": {},
   "outputs": [
    {
     "data": {
      "text/html": [
       "<div>\n",
       "<style scoped>\n",
       "    .dataframe tbody tr th:only-of-type {\n",
       "        vertical-align: middle;\n",
       "    }\n",
       "\n",
       "    .dataframe tbody tr th {\n",
       "        vertical-align: top;\n",
       "    }\n",
       "\n",
       "    .dataframe thead th {\n",
       "        text-align: right;\n",
       "    }\n",
       "</style>\n",
       "<table border=\"1\" class=\"dataframe\">\n",
       "  <thead>\n",
       "    <tr style=\"text-align: right;\">\n",
       "      <th></th>\n",
       "      <th>categoria</th>\n",
       "      <th>filename</th>\n",
       "    </tr>\n",
       "  </thead>\n",
       "  <tbody>\n",
       "    <tr>\n",
       "      <td>0</td>\n",
       "      <td>contos</td>\n",
       "      <td>contos/macn001.txt</td>\n",
       "    </tr>\n",
       "    <tr>\n",
       "      <td>1</td>\n",
       "      <td>contos</td>\n",
       "      <td>contos/macn002.txt</td>\n",
       "    </tr>\n",
       "    <tr>\n",
       "      <td>2</td>\n",
       "      <td>contos</td>\n",
       "      <td>contos/macn003.txt</td>\n",
       "    </tr>\n",
       "    <tr>\n",
       "      <td>3</td>\n",
       "      <td>contos</td>\n",
       "      <td>contos/macn004.txt</td>\n",
       "    </tr>\n",
       "    <tr>\n",
       "      <td>4</td>\n",
       "      <td>contos</td>\n",
       "      <td>contos/macn005.txt</td>\n",
       "    </tr>\n",
       "  </tbody>\n",
       "</table>\n",
       "</div>"
      ],
      "text/plain": [
       "  categoria            filename\n",
       "0    contos  contos/macn001.txt\n",
       "1    contos  contos/macn002.txt\n",
       "2    contos  contos/macn003.txt\n",
       "3    contos  contos/macn004.txt\n",
       "4    contos  contos/macn005.txt"
      ]
     },
     "execution_count": 21,
     "metadata": {},
     "output_type": "execute_result"
    }
   ],
   "source": [
    "data = list()\n",
    "for cat in machado.categories():\n",
    "    for doc in machado.fileids(categories=cat):\n",
    "        data.append([cat, doc])\n",
    "data = pd.DataFrame(data, columns=['categoria', 'filename'])\n",
    "data.head()"
   ]
  },
  {
   "cell_type": "code",
   "execution_count": 22,
   "metadata": {},
   "outputs": [
    {
     "data": {
      "text/html": [
       "<div>\n",
       "<style scoped>\n",
       "    .dataframe tbody tr th:only-of-type {\n",
       "        vertical-align: middle;\n",
       "    }\n",
       "\n",
       "    .dataframe tbody tr th {\n",
       "        vertical-align: top;\n",
       "    }\n",
       "\n",
       "    .dataframe thead th {\n",
       "        text-align: right;\n",
       "    }\n",
       "</style>\n",
       "<table border=\"1\" class=\"dataframe\">\n",
       "  <thead>\n",
       "    <tr style=\"text-align: right;\">\n",
       "      <th></th>\n",
       "      <th>filename</th>\n",
       "    </tr>\n",
       "    <tr>\n",
       "      <th>categoria</th>\n",
       "      <th></th>\n",
       "    </tr>\n",
       "  </thead>\n",
       "  <tbody>\n",
       "    <tr>\n",
       "      <td>contos</td>\n",
       "      <td>137</td>\n",
       "    </tr>\n",
       "    <tr>\n",
       "      <td>critica</td>\n",
       "      <td>45</td>\n",
       "    </tr>\n",
       "    <tr>\n",
       "      <td>cronica</td>\n",
       "      <td>24</td>\n",
       "    </tr>\n",
       "    <tr>\n",
       "      <td>miscelanea</td>\n",
       "      <td>10</td>\n",
       "    </tr>\n",
       "    <tr>\n",
       "      <td>poesia</td>\n",
       "      <td>7</td>\n",
       "    </tr>\n",
       "    <tr>\n",
       "      <td>romance</td>\n",
       "      <td>10</td>\n",
       "    </tr>\n",
       "    <tr>\n",
       "      <td>teatro</td>\n",
       "      <td>10</td>\n",
       "    </tr>\n",
       "    <tr>\n",
       "      <td>traducao</td>\n",
       "      <td>3</td>\n",
       "    </tr>\n",
       "  </tbody>\n",
       "</table>\n",
       "</div>"
      ],
      "text/plain": [
       "            filename\n",
       "categoria           \n",
       "contos           137\n",
       "critica           45\n",
       "cronica           24\n",
       "miscelanea        10\n",
       "poesia             7\n",
       "romance           10\n",
       "teatro            10\n",
       "traducao           3"
      ]
     },
     "execution_count": 22,
     "metadata": {},
     "output_type": "execute_result"
    }
   ],
   "source": [
    "data.groupby('categoria').count()"
   ]
  },
  {
   "cell_type": "code",
   "execution_count": 24,
   "metadata": {},
   "outputs": [
    {
     "data": {
      "text/plain": [
       "<matplotlib.axes._subplots.AxesSubplot at 0x7ff76708b978>"
      ]
     },
     "execution_count": 24,
     "metadata": {},
     "output_type": "execute_result"
    },
    {
     "data": {
      "image/png": "[encoded data removed]",
      "text/plain": [
       "<Figure size 432x288 with 1 Axes>"
      ]
     },
     "metadata": {
      "needs_background": "light"
     },
     "output_type": "display_data"
    }
   ],
   "source": [
    "data.groupby('categoria').count().reset_index().plot(kind='barh')"
   ]
  },
  {
   "cell_type": "code",
   "execution_count": 25,
   "metadata": {},
   "outputs": [],
   "source": [
    "def read_machado():\n",
    "    \"\"\" Load \"Machado de Assis\" corpus\n",
    "    \"\"\"\n",
    "    labels = machado.categories()\n",
    "    data = list()\n",
    "    for l in labels:\n",
    "        text_ids = machado.fileids(categories=l)\n",
    "        data.extend([(machado.raw(fileids=tid), l) for tid in text_ids])\n",
    "        \n",
    "    return data"
   ]
  },
  {
   "cell_type": "code",
   "execution_count": null,
   "metadata": {},
   "outputs": [],
   "source": [
    "def extract_features(documents):\n",
    "    \"\"\" Extract features \"\"\"\n",
    "    processor = TextProcessor()\n",
    "    \n",
    "    # Other options: CountVectorizer, TfidfVectorizer\n",
    "    \n",
    "    extractor = HashingVectorizer(analyzer=processor.process)\n",
    "    \n",
    "    return extractor.fit_transform([t for t, _ in documents])"
   ]
  },
  {
   "cell_type": "code",
   "execution_count": null,
   "metadata": {},
   "outputs": [],
   "source": [
    "class TextProcessor(object):\n",
    "    \"\"\" Class for text processing. \"\"\"\n",
    "    def __init__(self):\n",
    "        self.stemer = RSLPStemmer()\n",
    "        # Podemos definir mais alguns processo aqui, como um tagger, ...\n",
    "\n",
    "    def process(self, document):\n",
    "        # lendo todas as palavras do documento\n",
    "        tokens = [\n",
    "            re.sub('\\d+[,.]?\\d+', '0', t)\n",
    "            for sent in sent_tokenize(document)\n",
    "            for t in word_tokenize(sent)]\n",
    "\n",
    "        return [\n",
    "            self.stemer.stem(t)\n",
    "            for t in tokens\n",
    "            if t not in stopwords.words('portuguese')]\n"
   ]
  },
  {
   "cell_type": "code",
   "execution_count": null,
   "metadata": {},
   "outputs": [],
   "source": [
    "data = read_machado()\n",
    "features = extract_features(data).toarray()"
   ]
  },
  {
   "cell_type": "code",
   "execution_count": null,
   "metadata": {},
   "outputs": [],
   "source": [
    "data[0]"
   ]
  },
  {
   "cell_type": "code",
   "execution_count": null,
   "metadata": {},
   "outputs": [],
   "source": [
    "import numpy\n",
    "labels = numpy.array([l for _, l in data])\n",
    "\n",
    "# Somente para garantir a distribuição das classes\n",
    "folds = StratifiedKFold(2)\n",
    "exp_idx = [(train, test) for (train, test) in folds.split(data, labels)]\n",
    "train, test = exp_idx[0]\n",
    "\n",
    "clf = RandomForestClassifier()\n",
    "clf.fit(features[train], labels[train])\n",
    "predictions = clf.predict(features[test])\n",
    "\n",
    "print(classification_report(labels[test], predictions))"
   ]
  }
 ],
 "metadata": {
  "kernelspec": {
   "display_name": "Python 3",
   "language": "python",
   "name": "python3"
  },
  "language_info": {
   "codemirror_mode": {
    "name": "ipython",
    "version": 3
   },
   "file_extension": ".py",
   "mimetype": "text/x-python",
   "name": "python",
   "nbconvert_exporter": "python",
   "pygments_lexer": "ipython3",
   "version": "3.6.8"
  }
 },
 "nbformat": 4,
 "nbformat_minor": 2
}
